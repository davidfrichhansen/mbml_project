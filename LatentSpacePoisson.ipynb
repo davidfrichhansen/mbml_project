{
 "cells": [
  {
   "cell_type": "code",
   "execution_count": null,
   "metadata": {},
   "outputs": [],
   "source": [
    "import numpy as np\n",
    "import matplotlib.pyplot as plt\n",
    "import pystan\n",
    "import pandas as pd\n",
    "import networkx as nx\n",
    "\n",
    "plt.style.use('ggplot')\n",
    "%matplotlib inline"
   ]
  },
  {
   "cell_type": "code",
   "execution_count": null,
   "metadata": {},
   "outputs": [],
   "source": [
    "# load nodes and edges from file\n",
    "nodes = pd.read_csv('./data/got-s6-nodes.csv')\n",
    "edges = pd.read_csv('./data/got-s6-edges.csv')\n",
    "\n",
    "# initialize networkx graph object and add nodes and edges\n",
    "G = nx.Graph(name='Game Of Thrones S06')\n",
    "G.add_nodes_from(nodes['Id'])\n",
    "edge_dict = [(x['Target'],x['Source'], {'weight' : x['Weight']}) for (_,x) in edges.iterrows()]\n",
    "G.add_edges_from(edge_dict)"
   ]
  },
  {
   "cell_type": "code",
   "execution_count": null,
   "metadata": {},
   "outputs": [],
   "source": [
    "# see http://edwardlib.org/tutorials/latent-space-models\n",
    "\n",
    "model_code = \"\"\"\n",
    "data { \n",
    "    int<lower=2> N; // number of nodes\n",
    "    int<lower=1> D; // dimension of latent space\n",
    "    int<lower=0> X[N,N]; // adjacency matrix\n",
    "} parameters { \n",
    "    matrix[N,D] z; // latent positions in space\n",
    "    real alpha; // bias in the network\n",
    "    real<lower=0> sigma; // std\n",
    "} model {\n",
    "    sigma ~ cauchy(0,10);\n",
    "    alpha ~ normal(0,0.2);\n",
    "    for (n in 1:N) z[n,:] ~ normal(0, sigma);\n",
    "    for (i in 1:N){\n",
    "        for (j in 1:N) {\n",
    "            if (i == j) continue; // This should probably be improved\n",
    "            X[i,j] ~ poisson(exp(alpha - distance(z[i,:], z[j,:]))); // another way to do the rate is to simply say poisson(1 / dist) instead\n",
    "        }\n",
    "    }\n",
    "    \n",
    "}\n",
    "\"\"\"\n"
   ]
  },
  {
   "cell_type": "code",
   "execution_count": null,
   "metadata": {},
   "outputs": [],
   "source": [
    "sm = pystan.StanModel(model_code=model_code)"
   ]
  },
  {
   "cell_type": "code",
   "execution_count": null,
   "metadata": {},
   "outputs": [],
   "source": [
    "data = {'N' : len(G.nodes()), 'D' : 2, 'X' : nx.to_numpy_matrix(G, dtype=int)}"
   ]
  },
  {
   "cell_type": "code",
   "execution_count": null,
   "metadata": {},
   "outputs": [],
   "source": [
    "sm.sampling(data=data, iter=100)"
   ]
  },
  {
   "cell_type": "code",
   "execution_count": null,
   "metadata": {},
   "outputs": [],
   "source": []
  }
 ],
 "metadata": {
  "kernelspec": {
   "display_name": "Python 3",
   "language": "python",
   "name": "python3"
  },
  "language_info": {
   "codemirror_mode": {
    "name": "ipython",
    "version": 3
   },
   "file_extension": ".py",
   "mimetype": "text/x-python",
   "name": "python",
   "nbconvert_exporter": "python",
   "pygments_lexer": "ipython3",
   "version": "3.7.3"
  }
 },
 "nbformat": 4,
 "nbformat_minor": 2
}
