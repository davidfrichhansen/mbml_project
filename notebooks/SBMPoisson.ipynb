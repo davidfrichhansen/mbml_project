{
 "cells": [
  {
   "cell_type": "markdown",
   "metadata": {},
   "source": [
    "## Latent space model\n",
    "One way to model network data is to assume that each node has a latent position in $D$-dimensional Euclidean space and that the rates are dependent on the relative distance between he nodes in this latent space. This is the framework of Hoff, Raftery and Handcock in [2]. As the weights in the network (that is, the observations), we model the likelihood as iid. Poisson variables whose rates depend on the relative distance between the nodes in the latent space. \n",
    "\n",
    "The latent positions are drawn from an isotropic multivariate Gaussian with 0 mean and diagonal covariance, $\\lambda I$ where $I$ denotes the identity matrix of appropriate size (ie. $D\\times D$). The variance parameter $\\lambda$ is drawn from a Cauchy distribution.  \n",
    "\n",
    "The likelihood of the modle is then as such,\n",
    "\n",
    "$$ p(X|\\theta) = \\prod_{i\\neq j} p(x_{i,j} | \\boldsymbol{z}_i,\\boldsymbol{z}_j)$$\n",
    "\n",
    "where $\\boldsymbol{z}_n$ denotes the $D$-dimensional latent position.  \n",
    "Each term in the likelihood is Poisson, with rate depending on the positions,\n",
    "$$p(x_{i,j} | \\boldsymbol{z}_i,\\boldsymbol{z}_j) = Poisson\\left(\\frac{1}{\\| \\boldsymbol{z}_i - \\boldsymbol{z}_j\\|}\\right)$$\n",
    "\n",
    "such that two positions that are close to eachother in latent space has a higher Poisson rate and on average, we'll observe a higher weight between them (in this framework, this corresponds to more interactions between different characters in Game of Thrones).\n",
    "\n"
   ]
  },
  {
   "cell_type": "markdown",
   "metadata": {},
   "source": [
    "## Stochastic Block Model with Poisson/Gamma observations\n",
    "\n",
    "### Indtroduction\n",
    "We are trying to do analysis on a weighted (positive integer weights), undirected network on interactions between characters in Game of Thrones using a Stochastic Block Model [1]\n",
    "\n",
    "The usually imports"
   ]
  },
  {
   "cell_type": "code",
   "execution_count": 20,
   "metadata": {},
   "outputs": [],
   "source": [
    "import numpy as np\n",
    "import matplotlib.pyplot as plt\n",
    "import pystan\n",
    "import pandas as pd\n",
    "import networkx as nx\n",
    "\n",
    "plt.style.use('ggplot')\n",
    "%matplotlib inline"
   ]
  },
  {
   "cell_type": "markdown",
   "metadata": {},
   "source": [
    "## Modelling\n",
    "### Theory\n",
    "As mentioned above we will fit a Stochastic Block Model (SBM) to the Game of Thrones data. The SBM is a mixture model where we assume that each node belongs to a single mixture component. Since each edge connects two nodes its likelyhood will depend on the corresponding two mixture components. We let $N$ denote the number of nodes and $K$ denote the number of mixture components\n",
    "\n",
    "We assume that the edges are i.i.d and hence get that the likelihood of the network takes the form:\n",
    "$$ p(X|\\theta) = \\prod_{i\\neq j} p(x_{i,j}|z_i, z_j, \\phi) $$\n",
    "Where $\\theta = \\{ \\{z_i \\}_{i=1}^N, \\phi\\}$. Here $z_i$ indicates which mixture component the $i$th node belongs to and $\\phi$ denotes any further parameters depending on the distribution. \n",
    "A simple choice of distribution would be a Poisson distribution. Then each probability in the product would be\n",
    "$$ p(x_{i,j} | z_i, z_j, \\lambda) = Poisson(\\lambda_{i,j})  $$\n",
    "Where $\\lambda$ is a matrix with the rates between groups s.t. $\\lambda_{i,j}$ is the rate between rate $i$ and $j$. We choose to assume that $\\lambda_{i,j} \\sim Gamma(a,b)$ where $a$ and $b$ are chosen hyperparameters.\n",
    "Next we assume the node mixture indicators $z$ to come from a $K$-dimensional categorical distribution\n",
    "$$ p(z_i = k | \\pi) = \\pi_k  $$\n",
    "where $\\pi = \\{ \\pi_k\\}_{k=1}^K$ and $\\sum_{k=1}^k \\pi_k = 1$. We assume that $\\pi$ is Dirichlet distributed with prior $\\alpha$\n",
    "\n",
    "From the above modelling we get the following generative process:\n",
    "* Given parameters $a$, $b$ and $\\alpha$\n",
    "    1. draw $\\pi \\sim Dirichlet(\\alpha)$\n",
    "    2. for $n = 1..N$\n",
    "        * draw $z_i \\sim Categorical(\\pi)$\n",
    "    3. draw $\\lambda \\sim Gamma(a,b)$\n",
    "    4. for all $i,j$ where $i \\neq j$\n",
    "        * draw $x_{i,j} \\sim Poisson(\\lambda_{i,j})$\n",
    "\n",
    "Which can also be depicted in the a PGM:"
   ]
  },
  {
   "cell_type": "markdown",
   "metadata": {},
   "source": [
    "![PGM1](https://i.imgur.com/tLcH5KT.png)"
   ]
  },
  {
   "cell_type": "markdown",
   "metadata": {},
   "source": [
    "However as STAN does not do well with discrete variables we cannot directly infer $z$ in the above model. This is a well known shortcoming STAN well documented in chapter 5 of the 'STAN User's Guide'. The work around is marginalizing out the discrete variables in the likelyhood by summing:\n",
    "\n",
    "$$ p(X_{i,j}|\\lambda) = \\sum_{k=1}^K \\sum_{k'=1}^K \\text{Categorical}(z_i = k|\\lambda)\\text{Categorical}(z_j = k'|\\lambda)\\text{Poisson}(X_{ij}| \\lambda_{k,k'})    $$\n",
    "\n",
    "In the implementation in STAN we transfer the above to the log scale for numerical reasons.\n",
    "\n",
    "Below is an implementation in STAN where we infer $\\lambda$ in the above model using the marginalization work around\n",
    "\n",
    "### STAN model"
   ]
  },
  {
   "cell_type": "code",
   "execution_count": 22,
   "metadata": {},
   "outputs": [],
   "source": [
    "model_code= \"\"\"\n",
    "data{\n",
    "       int<lower=1> N;                    // number of nodes\n",
    "        int X[N,N];                       // adjacency matrix\n",
    "        int<lower=2> K;                   // number of groups\n",
    "        vector[K] alpha;                  // prior for dirichlet distribution\n",
    "        real a;                           // priors on lambda\n",
    "        real b;\n",
    "} parameters {\n",
    "        simplex[K] pi;                     // group sizes\n",
    "        vector<lower=0>[K*(K+1)/2] lambda; // rates between groups\n",
    "} model{\n",
    "        matrix[K,K] log_mix_prop;          // log mixing proportions,\n",
    "        matrix[K,K] lps;                   \n",
    "\n",
    "        matrix[K,K] tmp = rep_matrix(0, K, K); // temp varible\n",
    "        \n",
    "        int count = 1;                    // variables used to ensure symmetry of lambda\n",
    "        int len = K*(K+1)/2;\n",
    "        \n",
    "        pi ~ dirichlet(alpha); // prior on group sizes,\n",
    "        \n",
    "        for(k in 1:len){\n",
    "            lambda[k] ~ gamma(a, b);\n",
    "        }\n",
    "        \n",
    "        for(k1 in 1:K){\n",
    "            for(k2 in k1:K){\n",
    "                    tmp[k1, k2] = lambda[count];\n",
    "                    count = count+1;\n",
    "            }\n",
    "        }\n",
    "        tmp = tmp + tmp' - diag_matrix(diagonal(tmp));\n",
    "        \n",
    "        // cache mixing proportions\n",
    "        for (k1 in 1:K) {\n",
    "            for (k2 in 1:K) {\n",
    "                log_mix_prop[k1, k2] = log(pi[k1]) + log(pi[k2]);\n",
    "            }\n",
    "        }\n",
    "        \n",
    "        // likelihood,\n",
    "        for (i in 1:N) {\n",
    "            for (j in 1:N) {\n",
    "                if (i == j) continue; // ignore diagonal\n",
    "                lps = log_mix_prop; // reset log probs\n",
    "                for (k1 in 1:K) {\n",
    "                    for (k2 in 1:K) {\n",
    "                        lps[k1, k2] += poisson_lpmf(X[i,j] | tmp[k1,k2]);\n",
    "                    }\n",
    "                }\n",
    "                target += log_sum_exp(lps);\n",
    "            }\n",
    "        }\n",
    "}\n",
    "\"\"\""
   ]
  },
  {
   "cell_type": "code",
   "execution_count": 23,
   "metadata": {},
   "outputs": [
    {
     "name": "stderr",
     "output_type": "stream",
     "text": [
      "INFO:pystan:COMPILING THE C++ CODE FOR MODEL anon_model_c4c3dce24cad2da7f3baba60dce61707 NOW.\n"
     ]
    }
   ],
   "source": [
    "sm = pystan.StanModel(model_code=model_code)"
   ]
  },
  {
   "cell_type": "markdown",
   "metadata": {},
   "source": [
    "## Test on synthetic data\n",
    "in order to test our model we generate a simple network strcture to test on"
   ]
  },
  {
   "cell_type": "code",
   "execution_count": 24,
   "metadata": {},
   "outputs": [
    {
     "data": {
      "image/png": "[encoded data removed]",
      "text/plain": [
       "<Figure size 432x288 with 1 Axes>"
      ]
     },
     "metadata": {},
     "output_type": "display_data"
    }
   ],
   "source": [
    "# Generate small network to test on\n",
    "num_each = 50\n",
    "G = nx.barbell_graph(num_each,0)\n",
    "\n",
    "# Generate the notes with different number of edges.\n",
    "mat = nx.to_numpy_array(G, dtype=int)\n",
    "rate1 = 5\n",
    "rate2 = 100\n",
    "mat1 = np.random.poisson(rate1, size=(num_each//2, num_each//2))\n",
    "mat1 = np.tril(mat1) + np.tril(mat1,k=-1).T\n",
    "mat2 = np.random.poisson(rate2, size=mat1.shape)\n",
    "mat2 = np.tril(mat2) + np.tril(mat2, k=-1).T\n",
    "\n",
    "mat = np.array(np.block([[mat1, np.zeros(mat1.shape, dtype=int)], [np.zeros(mat1.shape, dtype=int), mat2]]))\n",
    "np.fill_diagonal(mat, 0)\n",
    "mat[0,-1] = mat[-1,0] = np.random.poisson(8)\n",
    "\n",
    "# Draw graph\n",
    "G = nx.from_numpy_array(mat)\n",
    "nx.draw(G)"
   ]
  },
  {
   "cell_type": "markdown",
   "metadata": {},
   "source": [
    "This will be the test graph. Cleary we can see the two mixture components an their different rates."
   ]
  },
  {
   "cell_type": "code",
   "execution_count": 25,
   "metadata": {},
   "outputs": [],
   "source": [
    "data = {'X' : mat, 'N' : mat.shape[0], 'K' : 2, 'alpha' : np.ones(2), 'a' : 7.5, 'b' : 1}\n",
    "fit = sm.sampling(data=data, iter=10000, chains=1)"
   ]
  },
  {
   "cell_type": "code",
   "execution_count": 27,
   "metadata": {},
   "outputs": [
    {
     "data": {
      "text/plain": [
       "Inference for Stan model: anon_model_c4c3dce24cad2da7f3baba60dce61707.\n",
       "1 chains, each with iter=10000; warmup=5000; thin=1; \n",
       "post-warmup draws per chain=5000, total post-warmup draws=5000.\n",
       "\n",
       "            mean se_mean     sd   2.5%    25%    50%    75%  97.5%  n_eff   Rhat\n",
       "pi[1]        0.5  1.1e-4 7.1e-3   0.48   0.49    0.5    0.5   0.51   4219    1.0\n",
       "pi[2]        0.5  1.1e-4 7.1e-3   0.49    0.5    0.5   0.51   0.52   4219    1.0\n",
       "lambda[1]   5.04  1.4e-3    0.1   4.86   4.98   5.04    5.1   5.23   5010    1.0\n",
       "lambda[2]   0.01  5.3e-5 3.6e-3 5.0e-3 8.4e-3   0.01   0.01   0.02   4467    1.0\n",
       "lambda[3] 100.37  5.9e-3   0.41  99.58 100.09 100.38 100.64 101.15   4736    1.0\n",
       "lp__       -6125    0.03   1.44  -6129  -6126  -6125  -6124  -6123   2514    1.0\n",
       "\n",
       "Samples were drawn using NUTS at Tue Apr 23 10:54:27 2019.\n",
       "For each parameter, n_eff is a crude measure of effective sample size,\n",
       "and Rhat is the potential scale reduction factor on split chains (at \n",
       "convergence, Rhat=1)."
      ]
     },
     "execution_count": 27,
     "metadata": {},
     "output_type": "execute_result"
    }
   ],
   "source": [
    "fit"
   ]
  },
  {
   "cell_type": "markdown",
   "metadata": {},
   "source": [
    "Examining the fit we see that the different mixtures aswell as the different rates between groups. "
   ]
  },
  {
   "cell_type": "markdown",
   "metadata": {},
   "source": [
    "## Test on real data\n",
    "### Data import\n",
    "Import of the datafiles. The contents of the dataset can be seen in the intial initial_notebook.\n",
    "\n",
    "In short the data concist of an undireced netwwork between persons in the TV series games of thrones. \n",
    "\n",
    "We want to infer communities in the network based on the observed edges in the network. The observed data is represented through the adjacency matrix of the network of size $N \\times N$ such that N is the observed number of nodes (ie. characters). Then $X[i,j] = w$ is the observed number of interactions, w, between character i and j. $X$ is symmetric, as the network is undirected."
   ]
  },
  {
   "cell_type": "code",
   "execution_count": 50,
   "metadata": {},
   "outputs": [
    {
     "data": {
      "image/png": "[encoded data removed]",
      "text/plain": [
       "<Figure size 432x288 with 1 Axes>"
      ]
     },
     "metadata": {},
     "output_type": "display_data"
    }
   ],
   "source": [
    "# load nodes and edges from file\n",
    "nodes = pd.read_csv('../data/got-s6-nodes.csv')\n",
    "edges = pd.read_csv('../data/got-s6-edges.csv')\n",
    "\n",
    "# Initialize the graph based on the data from Game of Thrones Season 6\n",
    "G = nx.Graph(name='Game Of Thrones S06')\n",
    "G.add_nodes_from(nodes['Id'])\n",
    "edge_dict = [(x['Target'],x['Source'], {'weight' : x['Weight']}) for (_,x) in edges.iterrows()]\n",
    "G.add_edges_from(edge_dict)\n",
    "\n",
    "# Conver to numpy to use with STAN\n",
    "graph = nx.to_numpy_matrix(G, dtype=int)\n",
    "nx.draw(G)"
   ]
  },
  {
   "cell_type": "markdown",
   "metadata": {},
   "source": [
    "The season 6 graph also concist of distinct grahps. So initially we se the mixturinging components to be 2"
   ]
  },
  {
   "cell_type": "code",
   "execution_count": 48,
   "metadata": {},
   "outputs": [],
   "source": [
    "n = len(nodes)+1\n",
    "k = 2\n",
    "data = {'X' : graph, 'N' : n, 'K' : k, 'alpha' : np.ones(2), 'a' : 7.5, 'b' : 1}\n",
    "fit = sm.sampling(data=data, iter=500, chains=1)"
   ]
  },
  {
   "cell_type": "code",
   "execution_count": 51,
   "metadata": {},
   "outputs": [
    {
     "data": {
      "text/plain": [
       "Inference for Stan model: anon_model_c4c3dce24cad2da7f3baba60dce61707.\n",
       "1 chains, each with iter=500; warmup=250; thin=1; \n",
       "post-warmup draws per chain=250, total post-warmup draws=250.\n",
       "\n",
       "            mean se_mean     sd   2.5%    25%    50%    75%  97.5%  n_eff   Rhat\n",
       "pi[1]       0.21  2.7e-4 3.8e-3    0.2    0.2   0.21   0.21   0.21    195    1.0\n",
       "pi[2]       0.79  2.7e-4 3.8e-3   0.79   0.79   0.79    0.8    0.8    195    1.0\n",
       "lambda[1]  13.85    0.03   0.31  13.31  13.63  13.83  14.09  14.43    109    1.0\n",
       "lambda[2] 1.1e-3  3.3e-5 3.5e-4 5.8e-4 8.7e-4 1.1e-3 1.3e-3 2.0e-3    113    1.0\n",
       "lambda[3]   0.05  4.8e-4 5.2e-3   0.04   0.05   0.05   0.06   0.06    116    1.0\n",
       "lp__      -1.3e4    0.13   1.14 -1.3e4 -1.3e4 -1.3e4 -1.3e4 -1.3e4     73    1.0\n",
       "\n",
       "Samples were drawn using NUTS at Tue Apr 23 11:16:12 2019.\n",
       "For each parameter, n_eff is a crude measure of effective sample size,\n",
       "and Rhat is the potential scale reduction factor on split chains (at \n",
       "convergence, Rhat=1)."
      ]
     },
     "execution_count": 51,
     "metadata": {},
     "output_type": "execute_result"
    }
   ],
   "source": [
    "fit"
   ]
  },
  {
   "cell_type": "markdown",
   "metadata": {},
   "source": [
    "it works"
   ]
  },
  {
   "cell_type": "markdown",
   "metadata": {},
   "source": [
    "## Current problems\n",
    "1. We're working on extracting the mixture component $z_{ij}$ to determine the community in which a egde belongs to\n",
    "2. We're having issues setting up the $\\lambda$'s such that we allow for a node to have a belonging to multiple clusters. From the intial fit on the synthetic data we saw that we found the right rates. however they're not always located in the diagonal of the matrix $\\lambda$.\n",
    "\n",
    "## Litterature\n",
    "[1] Mikkel N. Schmidt and Morten Mørup. Non-parametric bayesian modeling of complex networks. an introduction. IEEE Signal Processing Magazine, 30(3):110–128, May 2013. [PDF](http://mikkelschmidt.dk/papers/schmidt2013spm.pdf) , [Link to publication](https://ieeexplore.ieee.org/document/6494690)  \n",
    "[2] Peter D Hoff, Adrian E Raftery & Mark S Handcock (2002) Latent Space Approaches to Social Network Analysis, Journal of the American Statistical Association, 97:460, 1090-1098, DOI: 10.1198/016214502388618906 "
   ]
  },
  {
   "cell_type": "code",
   "execution_count": null,
   "metadata": {},
   "outputs": [],
   "source": []
  }
 ],
 "metadata": {
  "kernelspec": {
   "display_name": "Python 3",
   "language": "python",
   "name": "python3"
  },
  "language_info": {
   "codemirror_mode": {
    "name": "ipython",
    "version": 3
   },
   "file_extension": ".py",
   "mimetype": "text/x-python",
   "name": "python",
   "nbconvert_exporter": "python",
   "pygments_lexer": "ipython3",
   "version": "3.7.3"
  }
 },
 "nbformat": 4,
 "nbformat_minor": 2
}
